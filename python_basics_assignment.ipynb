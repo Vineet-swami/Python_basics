{
  "nbformat": 4,
  "nbformat_minor": 0,
  "metadata": {
    "colab": {
      "provenance": []
    },
    "kernelspec": {
      "name": "python3",
      "display_name": "Python 3"
    },
    "language_info": {
      "name": "python"
    }
  },
  "cells": [
    {
      "cell_type": "markdown",
      "source": [
        "<!-- Python Basic Questions -->\n",
        "1. What is Python, and why is it popular?\n",
        "\n",
        "---Python is a high level, interpreted programming languages it is easy to learn have good readability and versatility. It popular because it dominate in data science, machine learning, automation, scripting and backend development.\n",
        "\n",
        "2. What is an interpreter in Python?    \n",
        "\n",
        "---An interpreter in Python is a program that reads and executes Python code line by line, translating it into machine-readable instructions on the fly.\n",
        "\n",
        "3. What are pre-defined keywords in Python?\n",
        "\n",
        "---Pre-defined keywords in Python are reserved words that have special meaning to the Python interpreter. You cannot use them as variable names, function names, or identifiers because they are part of the language syntax.\n",
        "\n",
        "4. Can keywords be used as variable names ?\n",
        "\n",
        "---No.\n",
        "\n",
        "5. What is mutability in Python?\n",
        "\n",
        "---Mutability in Python relates to weather an object can be changed after it created.\n",
        "\n",
        "6. Why are lists mutable, but tuples are immutable?\n",
        "\n",
        "---Lists are mutable and tuples are immutable in Python by design, based on their intended use cases and internal implementation.\n",
        "\n",
        "7. What is the difference between “==” and “is” operators in Python?\n",
        "\n",
        "---\"==\" checks if the values are equal, have same content. \"is\" if two variables points to the same object in the memory.\n",
        "\n",
        "8. What are logical operators in Python?\n",
        "\n",
        "---Logical operators in Python are used to combine conditional statements. They return Boolean values (True or False) based on the logic of the expressions involved. Example: and, or, not.\n",
        "\n",
        "9. What is type casting in Python?\n",
        "\n",
        "---Type casting in Python is the process of converting the data type of a variable into another type, either implicitly or explicitly.\n",
        "\n",
        "10. What is the difference between implicit and explicit type casting?\n",
        "\n",
        "---1. Implicit Type Casting:\n",
        "  Python automatically converts one data type to another during operations when necessary.\n",
        "  Example:\n",
        "  x = 5        # int\n",
        "  y = 2.5      # float\n",
        "  z = x + y    # z becomes float automatically\n",
        "  print(z)     # Output: 7.5\n",
        "  2. Explicit Type Casting:\n",
        "  You manually convert data types using built-in functions.\n",
        "  Example:\n",
        "  a = \"10\"\n",
        "  b = int(a)     # Converts string to int\n",
        "  print(b + 5)   # Output: 15\n",
        "\n",
        "11. What is the purpose of conditional statements in Python?\n",
        "\n",
        "---The purpose of conditional statements in Python is to allow your program to make decisions and execute specific blocks of code based on certain conditions.\n",
        "\n",
        "12.  How does the elif statement work?\n",
        "\n",
        "---The elif (short for else if) statement in Python is used to check multiple conditions sequentially after an initial if condition. It allows your program to branch into different code paths depending on which condition is true.\n",
        "\n",
        "13. What is the difference between for and while loops?\n",
        "\n",
        "---for loop:\n",
        "  Used when you know in advance how many times you want to iterate.\n",
        "\n",
        "  Iterates over a sequence (like a list, string, range, etc.).\n",
        "\n",
        "  Automatically ends after completing the iteration.\n",
        "  while loop:\n",
        "  Used when the end condition depends on a logical expression, not a counter.\n",
        "\n",
        "  Keeps running as long as the condition is True.\n",
        "\n",
        "  You need to make sure the condition eventually becomes False, or it results in an infinite loop.\n",
        "\n",
        "14.  Describe a scenario where a while loop is more suitable than a for loop.\n",
        "\n",
        "---While loop is better than for loop when you don't know how many number of iteration required. Example can be taken of binary search.\n",
        "Example:\n"
      ],
      "metadata": {
        "id": "W8PzrpgzXixR"
      }
    },
    {
      "cell_type": "code",
      "source": [
        "# 14. Example of Binary search\n",
        "def binary_search(arr, target):\n",
        "    left = 0\n",
        "    right = len(arr) - 1\n",
        "\n",
        "    while left <= right:\n",
        "        mid = (left + right) // 2\n",
        "\n",
        "        if arr[mid] == target:\n",
        "            return mid  # Found\n",
        "        elif arr[mid] < target:\n",
        "            left = mid + 1  # Search in right half\n",
        "        else:\n",
        "            right = mid - 1  # Search in left half\n",
        "\n",
        "    return -1  # Not found\n",
        "\n",
        "# Example usage\n",
        "arr = [1, 3, 5, 7, 9, 11, 13]\n",
        "target = 9\n",
        "result = binary_search(arr, target)\n",
        "print(\"Element found at index:\", result if result != -1 else \"Not found\")"
      ],
      "metadata": {
        "colab": {
          "base_uri": "https://localhost:8080/"
        },
        "id": "J8ktONxkZbol",
        "outputId": "007e05f0-c7a0-48a4-eaf8-2ff8f361bf91"
      },
      "execution_count": 1,
      "outputs": [
        {
          "output_type": "stream",
          "name": "stdout",
          "text": [
            "Element found at index: 4\n"
          ]
        }
      ]
    },
    {
      "cell_type": "markdown",
      "source": [
        "<!-- Practical Questions -->\n",
        "1. Write a Python program to print \"Hello, World!\""
      ],
      "metadata": {
        "id": "95N3qQPoN95r"
      }
    },
    {
      "cell_type": "code",
      "source": [
        "print('''\"Hello, World!\"''')"
      ],
      "metadata": {
        "colab": {
          "base_uri": "https://localhost:8080/"
        },
        "id": "f1n7FvjiZLHa",
        "outputId": "8a2d7387-9a56-4124-9012-4266ab2408b7"
      },
      "execution_count": 3,
      "outputs": [
        {
          "output_type": "stream",
          "name": "stdout",
          "text": [
            "\"Hello, World!\"\n"
          ]
        }
      ]
    },
    {
      "cell_type": "markdown",
      "source": [
        "2. Write a Python program that displays your name and age."
      ],
      "metadata": {
        "id": "PGArW0CGXv9R"
      }
    },
    {
      "cell_type": "markdown",
      "source": [],
      "metadata": {
        "id": "OFwmKNfaXxDE"
      }
    },
    {
      "cell_type": "code",
      "execution_count": 10,
      "metadata": {
        "id": "c5XOMzkElCj_",
        "colab": {
          "base_uri": "https://localhost:8080/"
        },
        "outputId": "b326ee6f-3d2d-4a08-87d4-9b1d70e15cd1"
      },
      "outputs": [
        {
          "output_type": "stream",
          "name": "stdout",
          "text": [
            "My name is Vineet Swami\n",
            "My age is 22\n"
          ]
        }
      ],
      "source": [
        "name = \"Vineet Swami\"\n",
        "age = \"22\"\n",
        "print(\"My name is\", name)\n",
        "print(\"My age is\", age)"
      ]
    },
    {
      "cell_type": "markdown",
      "source": [
        "3. Write code to print all the pre-defined keywords in Python using the keyword library."
      ],
      "metadata": {
        "id": "r5cZMS6DYztG"
      }
    },
    {
      "cell_type": "code",
      "source": [
        "import keyword\n",
        "\n",
        "# Print all Python keywords\n",
        "print(\"List of Python keywords:\")\n",
        "print(keyword.kwlist)"
      ],
      "metadata": {
        "colab": {
          "base_uri": "https://localhost:8080/"
        },
        "id": "afBS7UzpXjY2",
        "outputId": "2d06dee4-c46d-4a33-d533-7e88ee5e0a47"
      },
      "execution_count": 1,
      "outputs": [
        {
          "output_type": "stream",
          "name": "stdout",
          "text": [
            "List of Python keywords:\n",
            "['False', 'None', 'True', 'and', 'as', 'assert', 'async', 'await', 'break', 'class', 'continue', 'def', 'del', 'elif', 'else', 'except', 'finally', 'for', 'from', 'global', 'if', 'import', 'in', 'is', 'lambda', 'nonlocal', 'not', 'or', 'pass', 'raise', 'return', 'try', 'while', 'with', 'yield']\n"
          ]
        }
      ]
    },
    {
      "cell_type": "markdown",
      "source": [
        "4. Write a program that checks if a given word is a Python keyword.\n"
      ],
      "metadata": {
        "id": "_rnWpmN5gW-D"
      }
    },
    {
      "cell_type": "code",
      "source": [
        "import keyword\n",
        "\n",
        "# Get user input\n",
        "word = input(\"Enter a word to check if it's a Python keyword: \")\n",
        "\n",
        "# Check if the word is a Python keyword\n",
        "if keyword.iskeyword(word):\n",
        "    print(f\"'{word}' is a Python keyword.\")\n",
        "else:\n",
        "    print(f\"'{word}' is NOT a Python keyword.\")"
      ],
      "metadata": {
        "colab": {
          "base_uri": "https://localhost:8080/"
        },
        "id": "hqJevX8mg160",
        "outputId": "c2cb5928-4011-4579-ed9f-5ac6a2390a9e"
      },
      "execution_count": 5,
      "outputs": [
        {
          "output_type": "stream",
          "name": "stdout",
          "text": [
            "Enter a word to check if it's a Python keyword: for\n",
            "'for' is a Python keyword.\n"
          ]
        }
      ]
    },
    {
      "cell_type": "markdown",
      "source": [
        "5. Create a list and tuple in Python, and demonstrate how attempting to change an element works differently\n",
        "for each."
      ],
      "metadata": {
        "id": "0D02MzjTjBgn"
      }
    },
    {
      "cell_type": "code",
      "source": [
        "# Creating a list\n",
        "my_list = [1, 2, 3]\n",
        "print(\"Original list:\", my_list)\n",
        "\n",
        "# Changing the second element\n",
        "my_list[1] = 20\n",
        "print(\"Modified list:\", my_list)"
      ],
      "metadata": {
        "colab": {
          "base_uri": "https://localhost:8080/"
        },
        "id": "AUlmBxEgjElP",
        "outputId": "4265a31e-2282-4d2c-bfb9-eef802ec81b5"
      },
      "execution_count": 7,
      "outputs": [
        {
          "output_type": "stream",
          "name": "stdout",
          "text": [
            "Original list: [1, 2, 3]\n",
            "Modified list: [1, 20, 3]\n"
          ]
        }
      ]
    },
    {
      "cell_type": "code",
      "source": [
        "# Creating a tuple\n",
        "my_tuple = (1, 2, 3)\n",
        "print(\"Original tuple:\", my_tuple)\n",
        "\n",
        "# Attempting to change the second element\n",
        "my_tuple[1] = 20  # ❌ This will raise a TypeError"
      ],
      "metadata": {
        "colab": {
          "base_uri": "https://localhost:8080/",
          "height": 198
        },
        "id": "01tN0JzFjg5m",
        "outputId": "3646644f-df44-402b-e29d-ca61612ef79b"
      },
      "execution_count": 9,
      "outputs": [
        {
          "output_type": "stream",
          "name": "stdout",
          "text": [
            "Original tuple: (1, 2, 3)\n"
          ]
        },
        {
          "output_type": "error",
          "ename": "TypeError",
          "evalue": "'tuple' object does not support item assignment",
          "traceback": [
            "\u001b[0;31m---------------------------------------------------------------------------\u001b[0m",
            "\u001b[0;31mTypeError\u001b[0m                                 Traceback (most recent call last)",
            "\u001b[0;32m<ipython-input-9-acfb4e902b6f>\u001b[0m in \u001b[0;36m<cell line: 0>\u001b[0;34m()\u001b[0m\n\u001b[1;32m      4\u001b[0m \u001b[0;34m\u001b[0m\u001b[0m\n\u001b[1;32m      5\u001b[0m \u001b[0;31m# Attempting to change the second element\u001b[0m\u001b[0;34m\u001b[0m\u001b[0;34m\u001b[0m\u001b[0m\n\u001b[0;32m----> 6\u001b[0;31m \u001b[0mmy_tuple\u001b[0m\u001b[0;34m[\u001b[0m\u001b[0;36m1\u001b[0m\u001b[0;34m]\u001b[0m \u001b[0;34m=\u001b[0m \u001b[0;36m20\u001b[0m  \u001b[0;31m# ❌ This will raise a TypeError\u001b[0m\u001b[0;34m\u001b[0m\u001b[0;34m\u001b[0m\u001b[0m\n\u001b[0m",
            "\u001b[0;31mTypeError\u001b[0m: 'tuple' object does not support item assignment"
          ]
        }
      ]
    },
    {
      "cell_type": "markdown",
      "source": [
        "6. Write a function to demonstrate the behavior of mutable and immutable arguments."
      ],
      "metadata": {
        "id": "CPO6Ha2Rjq-6"
      }
    },
    {
      "cell_type": "code",
      "source": [
        "# Function to modify both mutable and immutable types\n",
        "def modify_values(num, my_list):\n",
        "    print(\"Inside function before modification:\")\n",
        "    print(\"num =\", num)\n",
        "    print(\"my_list =\", my_list)\n",
        "\n",
        "    # Try modifying both\n",
        "    num += 10\n",
        "    my_list.append(4)\n",
        "\n",
        "    print(\"Inside function after modification:\")\n",
        "    print(\"num =\", num)\n",
        "    print(\"my_list =\", my_list)\n",
        "\n",
        "# Immutable argument\n",
        "x = 5\n",
        "\n",
        "# Mutable argument\n",
        "lst = [1, 2, 3]\n",
        "\n",
        "# Call the function\n",
        "modify_values(x, lst)\n",
        "\n",
        "print(\"\\nOutside function after calling modify_values:\")\n",
        "print(\"x =\", x)         # Will remain unchanged\n",
        "print(\"lst =\", lst)     # Will reflect changes\n"
      ],
      "metadata": {
        "colab": {
          "base_uri": "https://localhost:8080/"
        },
        "id": "y9al8QRKjprg",
        "outputId": "cc5d782e-7668-48e4-cb00-26d7e7835ea5"
      },
      "execution_count": 10,
      "outputs": [
        {
          "output_type": "stream",
          "name": "stdout",
          "text": [
            "Inside function before modification:\n",
            "num = 5\n",
            "my_list = [1, 2, 3]\n",
            "Inside function after modification:\n",
            "num = 15\n",
            "my_list = [1, 2, 3, 4]\n",
            "\n",
            "Outside function after calling modify_values:\n",
            "x = 5\n",
            "lst = [1, 2, 3, 4]\n"
          ]
        }
      ]
    },
    {
      "cell_type": "markdown",
      "source": [
        "7. Write a program that performs basic arithmetic operations on two user-input numbers."
      ],
      "metadata": {
        "id": "X7b-0Y0todRj"
      }
    },
    {
      "cell_type": "code",
      "source": [
        "#Taking input from user\n",
        "num1 = int(input(\"Enter first number\"))\n",
        "num2 = int(input(\"Enter second number\"))\n",
        "\n",
        "# Arithmetic operations\n",
        "add = num1 + num2\n",
        "sub = num1 - num2\n",
        "mul = num1 * num2\n",
        "# Handle division by 0\n",
        "if num2 != 0:\n",
        "  div = num1/num2\n",
        "else:\n",
        "  div = \"Division by zero is not possible\";\n",
        "\n",
        "# Printing operations\n",
        "print(add)\n",
        "print(sub)\n",
        "print(mul)\n",
        "print(div)"
      ],
      "metadata": {
        "colab": {
          "base_uri": "https://localhost:8080/"
        },
        "id": "dbaK2KF5onIA",
        "outputId": "b7311299-d9b3-4515-a7ef-b3679f6bf627"
      },
      "execution_count": 13,
      "outputs": [
        {
          "output_type": "stream",
          "name": "stdout",
          "text": [
            "Enter first number4\n",
            "Enter second number2\n",
            "6\n",
            "2\n",
            "8\n",
            "2.0\n"
          ]
        }
      ]
    },
    {
      "cell_type": "markdown",
      "source": [
        "8. Write a program to demonstrate the use of logical operators."
      ],
      "metadata": {
        "id": "7hr43XboqWRo"
      }
    },
    {
      "cell_type": "code",
      "source": [
        "# Input from user\n",
        "age = int(input(\"Enter your age: \"))\n",
        "has_ticket = input(\"Do you have a ticket? (yes/no): \").lower()\n",
        "\n",
        "# Logical Operators Demonstration\n",
        "\n",
        "# AND operator\n",
        "if age >= 18 and has_ticket == 'yes':\n",
        "    print(\"You are allowed to enter.\")\n",
        "else:\n",
        "    print(\"Access denied.\")\n",
        "\n",
        "# OR operator\n",
        "if age >= 18 or has_ticket == 'yes':\n",
        "    print(\"You meet at least one requirement.\")\n",
        "\n",
        "# NOT operator\n",
        "if not (has_ticket == 'yes'):\n",
        "    print(\"You need a ticket to enter.\")"
      ],
      "metadata": {
        "colab": {
          "base_uri": "https://localhost:8080/"
        },
        "id": "vnsZAPpWoriB",
        "outputId": "4eb045d2-580e-423c-af6a-09ffcc4e1011"
      },
      "execution_count": 14,
      "outputs": [
        {
          "output_type": "stream",
          "name": "stdout",
          "text": [
            "Enter your age: 22\n",
            "Do you have a ticket? (yes/no): yes\n",
            "You are allowed to enter.\n",
            "You meet at least one requirement.\n"
          ]
        }
      ]
    },
    {
      "cell_type": "markdown",
      "source": [
        "9. Write a Python program to convert user input from string to integer, float, and boolean types."
      ],
      "metadata": {
        "id": "u7XcJj17qmjw"
      }
    },
    {
      "cell_type": "code",
      "source": [
        "# User input as string\n",
        "user_input = input(\"Enter a number (as text): \")\n",
        "\n",
        "# Convert to integer\n",
        "try:\n",
        "    int_value = int(user_input)\n",
        "    print(\"Integer value:\", int_value)\n",
        "except ValueError:\n",
        "    print(\"Cannot convert to integer.\")\n",
        "\n",
        "# Convert to float\n",
        "try:\n",
        "    float_value = float(user_input)\n",
        "    print(\"Float value:\", float_value)\n",
        "except ValueError:\n",
        "    print(\"Cannot convert to float.\")\n",
        "\n",
        "# Convert to boolean\n",
        "# Common interpretation: 'true', 'yes', '1' are True; others are False\n",
        "bool_value = user_input.lower() in ['true', 'yes', '1']\n",
        "print(\"Boolean value:\", bool_value)"
      ],
      "metadata": {
        "colab": {
          "base_uri": "https://localhost:8080/",
          "height": 365
        },
        "id": "ytAj138aq1V5",
        "outputId": "606444e9-ba6d-44cf-b2b6-8c0123009355"
      },
      "execution_count": 16,
      "outputs": [
        {
          "output_type": "error",
          "ename": "KeyboardInterrupt",
          "evalue": "Interrupted by user",
          "traceback": [
            "\u001b[0;31m---------------------------------------------------------------------------\u001b[0m",
            "\u001b[0;31mKeyboardInterrupt\u001b[0m                         Traceback (most recent call last)",
            "\u001b[0;32m<ipython-input-16-fffbe18586b9>\u001b[0m in \u001b[0;36m<cell line: 0>\u001b[0;34m()\u001b[0m\n\u001b[1;32m      1\u001b[0m \u001b[0;31m# User input as string\u001b[0m\u001b[0;34m\u001b[0m\u001b[0;34m\u001b[0m\u001b[0m\n\u001b[0;32m----> 2\u001b[0;31m \u001b[0muser_input\u001b[0m \u001b[0;34m=\u001b[0m \u001b[0minput\u001b[0m\u001b[0;34m(\u001b[0m\u001b[0;34m\"Enter a number (as text): \"\u001b[0m\u001b[0;34m)\u001b[0m\u001b[0;34m\u001b[0m\u001b[0;34m\u001b[0m\u001b[0m\n\u001b[0m\u001b[1;32m      3\u001b[0m \u001b[0;34m\u001b[0m\u001b[0m\n\u001b[1;32m      4\u001b[0m \u001b[0;31m# Convert to integer\u001b[0m\u001b[0;34m\u001b[0m\u001b[0;34m\u001b[0m\u001b[0m\n\u001b[1;32m      5\u001b[0m \u001b[0;32mtry\u001b[0m\u001b[0;34m:\u001b[0m\u001b[0;34m\u001b[0m\u001b[0;34m\u001b[0m\u001b[0m\n",
            "\u001b[0;32m/usr/local/lib/python3.11/dist-packages/ipykernel/kernelbase.py\u001b[0m in \u001b[0;36mraw_input\u001b[0;34m(self, prompt)\u001b[0m\n\u001b[1;32m   1175\u001b[0m                 \u001b[0;34m\"raw_input was called, but this frontend does not support input requests.\"\u001b[0m\u001b[0;34m\u001b[0m\u001b[0;34m\u001b[0m\u001b[0m\n\u001b[1;32m   1176\u001b[0m             )\n\u001b[0;32m-> 1177\u001b[0;31m         return self._input_request(\n\u001b[0m\u001b[1;32m   1178\u001b[0m             \u001b[0mstr\u001b[0m\u001b[0;34m(\u001b[0m\u001b[0mprompt\u001b[0m\u001b[0;34m)\u001b[0m\u001b[0;34m,\u001b[0m\u001b[0;34m\u001b[0m\u001b[0;34m\u001b[0m\u001b[0m\n\u001b[1;32m   1179\u001b[0m             \u001b[0mself\u001b[0m\u001b[0;34m.\u001b[0m\u001b[0m_parent_ident\u001b[0m\u001b[0;34m[\u001b[0m\u001b[0;34m\"shell\"\u001b[0m\u001b[0;34m]\u001b[0m\u001b[0;34m,\u001b[0m\u001b[0;34m\u001b[0m\u001b[0;34m\u001b[0m\u001b[0m\n",
            "\u001b[0;32m/usr/local/lib/python3.11/dist-packages/ipykernel/kernelbase.py\u001b[0m in \u001b[0;36m_input_request\u001b[0;34m(self, prompt, ident, parent, password)\u001b[0m\n\u001b[1;32m   1217\u001b[0m             \u001b[0;32mexcept\u001b[0m \u001b[0mKeyboardInterrupt\u001b[0m\u001b[0;34m:\u001b[0m\u001b[0;34m\u001b[0m\u001b[0;34m\u001b[0m\u001b[0m\n\u001b[1;32m   1218\u001b[0m                 \u001b[0;31m# re-raise KeyboardInterrupt, to truncate traceback\u001b[0m\u001b[0;34m\u001b[0m\u001b[0;34m\u001b[0m\u001b[0m\n\u001b[0;32m-> 1219\u001b[0;31m                 \u001b[0;32mraise\u001b[0m \u001b[0mKeyboardInterrupt\u001b[0m\u001b[0;34m(\u001b[0m\u001b[0;34m\"Interrupted by user\"\u001b[0m\u001b[0;34m)\u001b[0m \u001b[0;32mfrom\u001b[0m \u001b[0;32mNone\u001b[0m\u001b[0;34m\u001b[0m\u001b[0;34m\u001b[0m\u001b[0m\n\u001b[0m\u001b[1;32m   1220\u001b[0m             \u001b[0;32mexcept\u001b[0m \u001b[0mException\u001b[0m\u001b[0;34m:\u001b[0m\u001b[0;34m\u001b[0m\u001b[0;34m\u001b[0m\u001b[0m\n\u001b[1;32m   1221\u001b[0m                 \u001b[0mself\u001b[0m\u001b[0;34m.\u001b[0m\u001b[0mlog\u001b[0m\u001b[0;34m.\u001b[0m\u001b[0mwarning\u001b[0m\u001b[0;34m(\u001b[0m\u001b[0;34m\"Invalid Message:\"\u001b[0m\u001b[0;34m,\u001b[0m \u001b[0mexc_info\u001b[0m\u001b[0;34m=\u001b[0m\u001b[0;32mTrue\u001b[0m\u001b[0;34m)\u001b[0m\u001b[0;34m\u001b[0m\u001b[0;34m\u001b[0m\u001b[0m\n",
            "\u001b[0;31mKeyboardInterrupt\u001b[0m: Interrupted by user"
          ]
        }
      ]
    },
    {
      "cell_type": "markdown",
      "source": [
        "10. Write code to demonstrate type casting with list elements"
      ],
      "metadata": {
        "id": "A1P3bbQErIWn"
      }
    },
    {
      "cell_type": "code",
      "source": [
        "# Original list of string numbers\n",
        "str_list = ['10', '20', '30', '40']\n",
        "\n",
        "# Convert list elements to integers\n",
        "int_list = [int(item) for item in str_list]\n",
        "print(\"List of integers:\", int_list)\n",
        "\n",
        "# Convert list elements to floats\n",
        "float_list = [float(item) for item in str_list]\n",
        "print(\"List of floats:\", float_list)\n"
      ],
      "metadata": {
        "colab": {
          "base_uri": "https://localhost:8080/"
        },
        "id": "zDjzu6yVrICu",
        "outputId": "fccf2ae7-bd65-41d7-e604-7b00012bd903"
      },
      "execution_count": 17,
      "outputs": [
        {
          "output_type": "stream",
          "name": "stdout",
          "text": [
            "List of integers: [10, 20, 30, 40]\n",
            "List of floats: [10.0, 20.0, 30.0, 40.0]\n"
          ]
        }
      ]
    },
    {
      "cell_type": "markdown",
      "source": [
        "11. Write a program that checks if a number is positive, negative, or zero."
      ],
      "metadata": {
        "id": "ZApZIH6Orb1b"
      }
    },
    {
      "cell_type": "code",
      "source": [
        "# Take input from the user\n",
        "num = float(input(\"Enter a number: \"))\n",
        "\n",
        "# Check and print the result\n",
        "if num > 0:\n",
        "    print(\"The number is positive.\")\n",
        "elif num < 0:\n",
        "    print(\"The number is negative.\")\n",
        "else:\n",
        "    print(\"The number is zero.\")\n"
      ],
      "metadata": {
        "colab": {
          "base_uri": "https://localhost:8080/",
          "height": 365
        },
        "id": "rLiAE8xJrck1",
        "outputId": "aca1e2f1-b776-4b2d-f182-d5c57635691c"
      },
      "execution_count": 18,
      "outputs": [
        {
          "output_type": "error",
          "ename": "KeyboardInterrupt",
          "evalue": "Interrupted by user",
          "traceback": [
            "\u001b[0;31m---------------------------------------------------------------------------\u001b[0m",
            "\u001b[0;31mKeyboardInterrupt\u001b[0m                         Traceback (most recent call last)",
            "\u001b[0;32m<ipython-input-18-c9082f5266ab>\u001b[0m in \u001b[0;36m<cell line: 0>\u001b[0;34m()\u001b[0m\n\u001b[1;32m      1\u001b[0m \u001b[0;31m# Take input from the user\u001b[0m\u001b[0;34m\u001b[0m\u001b[0;34m\u001b[0m\u001b[0m\n\u001b[0;32m----> 2\u001b[0;31m \u001b[0mnum\u001b[0m \u001b[0;34m=\u001b[0m \u001b[0mfloat\u001b[0m\u001b[0;34m(\u001b[0m\u001b[0minput\u001b[0m\u001b[0;34m(\u001b[0m\u001b[0;34m\"Enter a number: \"\u001b[0m\u001b[0;34m)\u001b[0m\u001b[0;34m)\u001b[0m\u001b[0;34m\u001b[0m\u001b[0;34m\u001b[0m\u001b[0m\n\u001b[0m\u001b[1;32m      3\u001b[0m \u001b[0;34m\u001b[0m\u001b[0m\n\u001b[1;32m      4\u001b[0m \u001b[0;31m# Check and print the result\u001b[0m\u001b[0;34m\u001b[0m\u001b[0;34m\u001b[0m\u001b[0m\n\u001b[1;32m      5\u001b[0m \u001b[0;32mif\u001b[0m \u001b[0mnum\u001b[0m \u001b[0;34m>\u001b[0m \u001b[0;36m0\u001b[0m\u001b[0;34m:\u001b[0m\u001b[0;34m\u001b[0m\u001b[0;34m\u001b[0m\u001b[0m\n",
            "\u001b[0;32m/usr/local/lib/python3.11/dist-packages/ipykernel/kernelbase.py\u001b[0m in \u001b[0;36mraw_input\u001b[0;34m(self, prompt)\u001b[0m\n\u001b[1;32m   1175\u001b[0m                 \u001b[0;34m\"raw_input was called, but this frontend does not support input requests.\"\u001b[0m\u001b[0;34m\u001b[0m\u001b[0;34m\u001b[0m\u001b[0m\n\u001b[1;32m   1176\u001b[0m             )\n\u001b[0;32m-> 1177\u001b[0;31m         return self._input_request(\n\u001b[0m\u001b[1;32m   1178\u001b[0m             \u001b[0mstr\u001b[0m\u001b[0;34m(\u001b[0m\u001b[0mprompt\u001b[0m\u001b[0;34m)\u001b[0m\u001b[0;34m,\u001b[0m\u001b[0;34m\u001b[0m\u001b[0;34m\u001b[0m\u001b[0m\n\u001b[1;32m   1179\u001b[0m             \u001b[0mself\u001b[0m\u001b[0;34m.\u001b[0m\u001b[0m_parent_ident\u001b[0m\u001b[0;34m[\u001b[0m\u001b[0;34m\"shell\"\u001b[0m\u001b[0;34m]\u001b[0m\u001b[0;34m,\u001b[0m\u001b[0;34m\u001b[0m\u001b[0;34m\u001b[0m\u001b[0m\n",
            "\u001b[0;32m/usr/local/lib/python3.11/dist-packages/ipykernel/kernelbase.py\u001b[0m in \u001b[0;36m_input_request\u001b[0;34m(self, prompt, ident, parent, password)\u001b[0m\n\u001b[1;32m   1217\u001b[0m             \u001b[0;32mexcept\u001b[0m \u001b[0mKeyboardInterrupt\u001b[0m\u001b[0;34m:\u001b[0m\u001b[0;34m\u001b[0m\u001b[0;34m\u001b[0m\u001b[0m\n\u001b[1;32m   1218\u001b[0m                 \u001b[0;31m# re-raise KeyboardInterrupt, to truncate traceback\u001b[0m\u001b[0;34m\u001b[0m\u001b[0;34m\u001b[0m\u001b[0m\n\u001b[0;32m-> 1219\u001b[0;31m                 \u001b[0;32mraise\u001b[0m \u001b[0mKeyboardInterrupt\u001b[0m\u001b[0;34m(\u001b[0m\u001b[0;34m\"Interrupted by user\"\u001b[0m\u001b[0;34m)\u001b[0m \u001b[0;32mfrom\u001b[0m \u001b[0;32mNone\u001b[0m\u001b[0;34m\u001b[0m\u001b[0;34m\u001b[0m\u001b[0m\n\u001b[0m\u001b[1;32m   1220\u001b[0m             \u001b[0;32mexcept\u001b[0m \u001b[0mException\u001b[0m\u001b[0;34m:\u001b[0m\u001b[0;34m\u001b[0m\u001b[0;34m\u001b[0m\u001b[0m\n\u001b[1;32m   1221\u001b[0m                 \u001b[0mself\u001b[0m\u001b[0;34m.\u001b[0m\u001b[0mlog\u001b[0m\u001b[0;34m.\u001b[0m\u001b[0mwarning\u001b[0m\u001b[0;34m(\u001b[0m\u001b[0;34m\"Invalid Message:\"\u001b[0m\u001b[0;34m,\u001b[0m \u001b[0mexc_info\u001b[0m\u001b[0;34m=\u001b[0m\u001b[0;32mTrue\u001b[0m\u001b[0;34m)\u001b[0m\u001b[0;34m\u001b[0m\u001b[0;34m\u001b[0m\u001b[0m\n",
            "\u001b[0;31mKeyboardInterrupt\u001b[0m: Interrupted by user"
          ]
        }
      ]
    },
    {
      "cell_type": "markdown",
      "source": [
        "12. Write a for loop to print numbers from 1 to 10."
      ],
      "metadata": {
        "id": "v7LhwUoIrfRi"
      }
    },
    {
      "cell_type": "code",
      "source": [
        "for i in range(1,11):\n",
        "  print(i)"
      ],
      "metadata": {
        "colab": {
          "base_uri": "https://localhost:8080/"
        },
        "id": "bbQh79ijrjjc",
        "outputId": "2bcffca4-a36e-4ec7-88e1-7914315e3ac2"
      },
      "execution_count": 19,
      "outputs": [
        {
          "output_type": "stream",
          "name": "stdout",
          "text": [
            "1\n",
            "2\n",
            "3\n",
            "4\n",
            "5\n",
            "6\n",
            "7\n",
            "8\n",
            "9\n",
            "10\n"
          ]
        }
      ]
    },
    {
      "cell_type": "markdown",
      "source": [
        "13. Write a Python program to find the sum of all even numbers between 1 and 50"
      ],
      "metadata": {
        "id": "Pd_hAXfqr0G2"
      }
    },
    {
      "cell_type": "code",
      "source": [
        "sum = 0\n",
        "for i in range(1,50):\n",
        "  if(i%2==0):\n",
        "    sum = sum+i\n",
        "print(sum)"
      ],
      "metadata": {
        "colab": {
          "base_uri": "https://localhost:8080/"
        },
        "id": "bMxDPnuOr09O",
        "outputId": "7b7a681c-db01-4d67-f9a5-2454186a979d"
      },
      "execution_count": 22,
      "outputs": [
        {
          "output_type": "stream",
          "name": "stdout",
          "text": [
            "600\n"
          ]
        }
      ]
    },
    {
      "cell_type": "markdown",
      "source": [
        "14. Write a program to reverse a string using a while loop."
      ],
      "metadata": {
        "id": "uhy_eESUshnz"
      }
    },
    {
      "cell_type": "code",
      "source": [
        "name = \"vineet\"\n",
        "s = 0\n",
        "e = len(name) - 1\n",
        "\n",
        "# Convert string to list to allow mutation\n",
        "name_list = list(name)\n",
        "\n",
        "while s < e:\n",
        "    name_list[s], name_list[e] = name_list[e], name_list[s]\n",
        "    s += 1\n",
        "    e -= 1\n",
        "\n",
        "# Convert list back to string\n",
        "name = ''.join(name_list)\n",
        "print(name)\n"
      ],
      "metadata": {
        "colab": {
          "base_uri": "https://localhost:8080/"
        },
        "id": "j44UNFqPsozk",
        "outputId": "2d08b2ca-c7f3-449f-a378-c3129e08256a"
      },
      "execution_count": 27,
      "outputs": [
        {
          "output_type": "stream",
          "name": "stdout",
          "text": [
            "teeniv\n"
          ]
        }
      ]
    },
    {
      "cell_type": "markdown",
      "source": [
        "15. Write a Python program to calculate the factorial of a number provided by the user using a while loop"
      ],
      "metadata": {
        "id": "n_FLJVPpuuqp"
      }
    },
    {
      "cell_type": "code",
      "source": [
        "# Get input from user\n",
        "num = int(input(\"Enter a number to calculate its factorial: \"))\n",
        "\n",
        "# Initialize factorial result\n",
        "factorial = 1\n",
        "i = 1\n",
        "\n",
        "# Handle negative input\n",
        "if num < 0:\n",
        "    print(\"Factorial does not exist for negative numbers.\")\n",
        "elif num == 0:\n",
        "    print(\"The factorial of 0 is 1.\")\n",
        "else:\n",
        "    while i <= num:\n",
        "        factorial *= i\n",
        "        i += 1\n",
        "    print(f\"The factorial of {num} is {factorial}\")\n"
      ],
      "metadata": {
        "colab": {
          "base_uri": "https://localhost:8080/"
        },
        "id": "0l1G2YoavHfy",
        "outputId": "a60a1d23-6d3c-423f-ba96-d2b26906fb56"
      },
      "execution_count": 28,
      "outputs": [
        {
          "output_type": "stream",
          "name": "stdout",
          "text": [
            "Enter a number to calculate its factorial: 10\n",
            "The factorial of 10 is 3628800\n"
          ]
        }
      ]
    }
  ]
}